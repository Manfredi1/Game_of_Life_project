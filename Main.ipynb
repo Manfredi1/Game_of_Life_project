{
 "cells": [
  {
   "cell_type": "markdown",
   "id": "31fe0f9b",
   "metadata": {},
   "source": [
    "### Rules:\n",
    "\n",
    "1- Any live cell with fewer than two live neighbours dies, as if by underpopulation.\n",
    "\n",
    "2- Any live cell with two or three live neighbours lives on to the next generation.\n",
    "\n",
    "3- Any live cell with more than three live neighbours dies, as if by overpopulation.\n",
    "\n",
    "4- Any dead cell with exactly three live neighbours becomes a live cell, as if by reproduction."
   ]
  },
  {
   "cell_type": "code",
   "execution_count": 1,
   "id": "2519288f",
   "metadata": {},
   "outputs": [
    {
     "name": "stdout",
     "output_type": "stream",
     "text": [
      "pygame 2.1.2 (SDL 2.0.16, Python 3.10.6)\n",
      "Hello from the pygame community. https://www.pygame.org/contribute.html\n"
     ]
    }
   ],
   "source": [
    "import pygame # we use pygame\n",
    "import numpy as np # numpy to repr the array\n",
    "from time import sleep # to control the speed of the game \n",
    "#from numba import njit # to speed up everything"
   ]
  },
  {
   "cell_type": "markdown",
   "id": "a3bd110e",
   "metadata": {},
   "source": [
    "Basic settings:"
   ]
  },
  {
   "cell_type": "code",
   "execution_count": 5,
   "id": "a1b9f305",
   "metadata": {},
   "outputs": [
    {
     "name": "stdout",
     "output_type": "stream",
     "text": [
      "The world is supposed to converge roughly in 80 step\n"
     ]
    }
   ],
   "source": [
    "width, height = 1100, 600\n",
    "pixel = 5\n",
    "\n",
    "# basic color\n",
    "white = (255, 255, 255)\n",
    "black = (0, 0, 0)\n",
    "\n",
    "n = 12.7 * np.log(.02 * width*height/pixel**2 + 1.2) # to understand why look at the end of Stat notebook\n",
    "n = round(n) # This is the number of color\n",
    "print('The world is supposed to converge roughly in',n,'step')\n",
    "\n",
    "palette = [(int(i*255/n),int(i*255/n),255) for i in range(n,-1,-1)]"
   ]
  },
  {
   "cell_type": "markdown",
   "id": "43c925e4",
   "metadata": {},
   "source": [
    "We first create a world. (we will use pygame to show our results and provide an interactive enviroment for the user)"
   ]
  },
  {
   "cell_type": "code",
   "execution_count": 3,
   "id": "211bb614",
   "metadata": {},
   "outputs": [],
   "source": [
    "# function that takes in a world, and updates it using the first three rules above\n",
    "#@njit(\"i1[:,:](i1[:,:])\", nogil=True)\n",
    "def next_gen(world,color):\n",
    "    \n",
    "    height, width = world.shape # take world shape\n",
    "    new_world = np.zeros((height, width), np.int8) # make a new world that we want to edit\n",
    "    \n",
    "    for i in range(height): # iterate through all the rows\n",
    "        for j in range(width):  # iterate through all columns\n",
    "            \n",
    "            cell = world[i][j]\n",
    "            neighbours_count = np.array([\n",
    "                    world[i_r][j_r]\n",
    "                    for i_r in ((i-1)%height, i, (i+1)%height) #periodic condition applied\n",
    "                    for j_r in ((j-1)%width, j, (j+1)%width)\n",
    "            ]).sum() - cell\n",
    "            \n",
    "            if cell and neighbours_count in (2, 3):\n",
    "                new_world[i][j] = 1\n",
    "                if color[i][j] < n: color[i][j] += 1\n",
    "                \n",
    "            elif (not cell) and neighbours_count == 3:\n",
    "                new_world[i][j] = 1\n",
    "            \n",
    "    return new_world,color"
   ]
  },
  {
   "cell_type": "code",
   "execution_count": 4,
   "id": "a11bb7c3",
   "metadata": {},
   "outputs": [],
   "source": [
    "pygame.init()\n",
    "\n",
    "screen = pygame.display.set_mode((width, height))\n",
    "\n",
    "world = np.random.randint(0, 2, (height//pixel, width//pixel), np.int8)\n",
    "#world = np.zeros((height//pixel, width//pixel), np.int8)\n",
    "color = world.copy()\n",
    "\n",
    "# now we want to take the initial position as input from the user\n",
    "def user_edit(world):\n",
    "    # if left click: make cell alive\n",
    "    if pygame.mouse.get_pressed()[0]: # if left click is pressed\n",
    "        x, y = pygame.mouse.get_pos()  # take the cursor position and try to highlight on grid\n",
    "        world[y//pixel][x//pixel] = 1\n",
    "        \n",
    "    # if right click: make cell dead\n",
    "    if pygame.mouse.get_pressed()[2]:\n",
    "        x, y = pygame.mouse.get_pos()\n",
    "        world[y//pixel][x//pixel] = 0\n",
    "    \n",
    "    return world\n",
    "\n",
    "def update_screen(world,color):\n",
    "    height, width = world.shape\n",
    "    screen.fill(black)\n",
    "    for i in range(height):\n",
    "        for j in range(width):\n",
    "            color_index = color[i][j] \n",
    "            if world[i][j]:\n",
    "                pygame.draw.rect(screen, palette[color_index], (j*pixel, i*pixel, pixel, pixel))\n",
    "            else:\n",
    "                color[i][j] = 0\n",
    "                \n",
    "run = True\n",
    "pause = True\n",
    "time_to_sleep = 0.3\n",
    "\n",
    "while run:\n",
    "\n",
    "    update_screen(world,color)\n",
    "    if not pause:\n",
    "        sleep(time_to_sleep)\n",
    "        world,color = next_gen(world,color)\n",
    "            \n",
    "    if pause:\n",
    "        world = user_edit(world)\n",
    "    \n",
    "    pygame.display.update()\n",
    "    \n",
    "    for event in pygame.event.get():\n",
    "        \n",
    "        if event.type == pygame.MOUSEBUTTONDOWN:\n",
    "            if event.button == 2:       \n",
    "                pause = not pause\n",
    "                \n",
    "            if event.button == 4:\n",
    "                time_to_sleep = max(0, time_to_sleep + 0.05)\n",
    "                time_to_sleep = min(time_to_sleep, 1)\n",
    "                \n",
    "            if event.button == 5:\n",
    "                time_to_sleep = max(0, time_to_sleep - 0.05)\n",
    "                time_to_sleep = min(time_to_sleep, 1)\n",
    "                \n",
    "        if event.type == pygame.QUIT:\n",
    "            pygame.display.quit()\n",
    "            pygame.QUIT\n",
    "            run = False"
   ]
  },
  {
   "cell_type": "code",
   "execution_count": null,
   "id": "5b23bd64",
   "metadata": {},
   "outputs": [],
   "source": []
  }
 ],
 "metadata": {
  "kernelspec": {
   "display_name": "Python 3 (ipykernel)",
   "language": "python",
   "name": "python3"
  },
  "language_info": {
   "codemirror_mode": {
    "name": "ipython",
    "version": 3
   },
   "file_extension": ".py",
   "mimetype": "text/x-python",
   "name": "python",
   "nbconvert_exporter": "python",
   "pygments_lexer": "ipython3",
   "version": "3.10.6"
  }
 },
 "nbformat": 4,
 "nbformat_minor": 5
}
